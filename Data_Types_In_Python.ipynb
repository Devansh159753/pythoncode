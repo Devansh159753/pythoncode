{
 "cells": [
  {
   "cell_type": "code",
   "execution_count": 1,
   "metadata": {},
   "outputs": [
    {
     "name": "stdout",
     "output_type": "stream",
     "text": [
      "This is python shell\n"
     ]
    }
   ],
   "source": [
    "print(\"This is python shell\")\n"
   ]
  },
  {
   "cell_type": "code",
   "execution_count": 2,
   "metadata": {},
   "outputs": [
    {
     "name": "stdout",
     "output_type": "stream",
     "text": [
      "Type of x :  <class 'int'>\n",
      "Value of x :  6\n"
     ]
    }
   ],
   "source": [
    "x=6\n",
    "print(\"Type of x : \",type(x))\n",
    "print(\"Value of x : \",x)\n"
   ]
  },
  {
   "cell_type": "markdown",
   "metadata": {},
   "source": [
    "# BASIC DATA TYPES IN PYTHON\n"
   ]
  },
  {
   "cell_type": "code",
   "execution_count": 5,
   "metadata": {},
   "outputs": [
    {
     "name": "stderr",
     "output_type": "stream",
     "text": [
      "'[title]' is not recognized as an internal or external command,\n",
      "operable program or batch file.\n"
     ]
    }
   ],
   "source": [
    "![title](maxresdefault.jpg)"
   ]
  },
  {
   "cell_type": "markdown",
   "metadata": {},
   "source": [
    "1.Numbers\n",
    "2.Strings\n",
    "3.Tuples\n",
    "4.Dictionaries\n",
    "5.Sets"
   ]
  },
  {
   "cell_type": "code",
   "execution_count": 2,
   "metadata": {
    "collapsed": true
   },
   "outputs": [],
   "source": [
    "#Numbers\n",
    "#Integers\n"
   ]
  },
  {
   "cell_type": "code",
   "execution_count": 5,
   "metadata": {},
   "outputs": [
    {
     "name": "stdout",
     "output_type": "stream",
     "text": [
      "s\n"
     ]
    }
   ],
   "source": [
    "#Strings -> String is a goup of or collection of characters\n",
    "#By default python supports utf-8 character set\n",
    "s = 'Hi , I am string.'\n",
    "s2 = \"Hi , I am also string\"\n",
    "s3 = \"Hi , I am a paragraph.\"\n",
    "print(\"s\")"
   ]
  },
  {
   "cell_type": "code",
   "execution_count": 6,
   "metadata": {},
   "outputs": [
    {
     "name": "stdout",
     "output_type": "stream",
     "text": [
      "w\n"
     ]
    }
   ],
   "source": [
    "s = \"Hello world\"\n",
    "one_char = s[6]\n",
    "print(one_char)"
   ]
  },
  {
   "cell_type": "code",
   "execution_count": 9,
   "metadata": {},
   "outputs": [
    {
     "name": "stdout",
     "output_type": "stream",
     "text": [
      "world\n",
      "Hello worl\n"
     ]
    }
   ],
   "source": [
    "#slicing s[start:end:step]\n",
    "s = \"Hello world\"\n",
    "c = s[6:11]\n",
    "x = s[0:-1]\n",
    "print(c)\n",
    "print(x)"
   ]
  },
  {
   "cell_type": "code",
   "execution_count": 1,
   "metadata": {},
   "outputs": [
    {
     "name": "stdout",
     "output_type": "stream",
     "text": [
      "The Zen of Python, by Tim Peters\n",
      "\n",
      "Beautiful is better than ugly.\n",
      "Explicit is better than implicit.\n",
      "Simple is better than complex.\n",
      "Complex is better than complicated.\n",
      "Flat is better than nested.\n",
      "Sparse is better than dense.\n",
      "Readability counts.\n",
      "Special cases aren't special enough to break the rules.\n",
      "Although practicality beats purity.\n",
      "Errors should never pass silently.\n",
      "Unless explicitly silenced.\n",
      "In the face of ambiguity, refuse the temptation to guess.\n",
      "There should be one-- and preferably only one --obvious way to do it.\n",
      "Although that way may not be obvious at first unless you're Dutch.\n",
      "Now is better than never.\n",
      "Although never is often better than *right* now.\n",
      "If the implementation is hard to explain, it's a bad idea.\n",
      "If the implementation is easy to explain, it may be a good idea.\n",
      "Namespaces are one honking great idea -- let's do more of those!\n"
     ]
    }
   ],
   "source": [
    "import this"
   ]
  },
  {
   "cell_type": "code",
   "execution_count": 2,
   "metadata": {},
   "outputs": [
    {
     "name": "stdout",
     "output_type": "stream",
     "text": [
      "['__add__', '__class__', '__contains__', '__delattr__', '__dir__', '__doc__', '__eq__', '__format__', '__ge__', '__getattribute__', '__getitem__', '__getnewargs__', '__gt__', '__hash__', '__init__', '__init_subclass__', '__iter__', '__le__', '__len__', '__lt__', '__mod__', '__mul__', '__ne__', '__new__', '__reduce__', '__reduce_ex__', '__repr__', '__rmod__', '__rmul__', '__setattr__', '__sizeof__', '__str__', '__subclasshook__', 'capitalize', 'casefold', 'center', 'count', 'encode', 'endswith', 'expandtabs', 'find', 'format', 'format_map', 'index', 'isalnum', 'isalpha', 'isdecimal', 'isdigit', 'isidentifier', 'islower', 'isnumeric', 'isprintable', 'isspace', 'istitle', 'isupper', 'join', 'ljust', 'lower', 'lstrip', 'maketrans', 'partition', 'replace', 'rfind', 'rindex', 'rjust', 'rpartition', 'rsplit', 'rstrip', 'split', 'splitlines', 'startswith', 'strip', 'swapcase', 'title', 'translate', 'upper', 'zfill']\n"
     ]
    }
   ],
   "source": [
    "s = \"Hello World\"\n",
    "print(dir(s))\n"
   ]
  },
  {
   "cell_type": "code",
   "execution_count": 8,
   "metadata": {},
   "outputs": [
    {
     "name": "stdout",
     "output_type": "stream",
     "text": [
      "S.center(width[, fillchar]) -> str\n",
      "\n",
      "Return S centered in a string of length width. Padding is\n",
      "done using the specified fill character (default is a space)\n"
     ]
    }
   ],
   "source": [
    "1 # . is known as specifier\n",
    "x = s.center.__doc__\n",
    "print(x)"
   ]
  },
  {
   "cell_type": "code",
   "execution_count": 9,
   "metadata": {},
   "outputs": [
    {
     "name": "stdout",
     "output_type": "stream",
     "text": [
      "-----------------------------------------------------------------------------------------------------------------------------------------------------------------------------------------------------------------------------------------------------------------------------Hello World------------------------------------------------------------------------------------------------------------------------------------------------------------------------------------------------------------------------------------------------------------------------------\n"
     ]
    }
   ],
   "source": [
    "y = s.center(550,'-')\n",
    "print(y)"
   ]
  },
  {
   "cell_type": "code",
   "execution_count": 10,
   "metadata": {},
   "outputs": [
    {
     "name": "stdout",
     "output_type": "stream",
     "text": [
      "s.lower =  hello world\n"
     ]
    }
   ],
   "source": [
    "s = \"HeLLo WoRLD\"\n",
    "u = s.lower()\n",
    "l = s.upper()\n",
    "k = s.swapcase()\n",
    "print(\"s.lower = \",u)\n"
   ]
  },
  {
   "cell_type": "code",
   "execution_count": 17,
   "metadata": {},
   "outputs": [
    {
     "name": "stdout",
     "output_type": "stream",
     "text": [
      "['Hello', 'World', 'Welocme', 'to', 'python']\n",
      "('Hello ', 'World', ' Welocme to python')\n",
      "Hello-World-Welocme-to-python\n"
     ]
    }
   ],
   "source": [
    "s = \"Hello World Welocme to python\"\n",
    "x = s.split()\n",
    "y = s.partition('World')\n",
    "print(x)\n",
    "print(y)\n",
    "abc = '-'.join(x)\n",
    "print(abc)"
   ]
  },
  {
   "cell_type": "code",
   "execution_count": 18,
   "metadata": {},
   "outputs": [
    {
     "name": "stdout",
     "output_type": "stream",
     "text": [
      "a<()>b<()>c<()>d\n"
     ]
    }
   ],
   "source": [
    "s = 'abcd'\n",
    "k = '<()>'.join(s)\n",
    "print(k)"
   ]
  },
  {
   "cell_type": "markdown",
   "metadata": {},
   "source": [
    "# LIST DATA TYPES I PYHTON"
   ]
  },
  {
   "cell_type": "markdown",
   "metadata": {},
   "source": [
    "1 A list is a collection of homogenous or heterogenous data elements.\n",
    "2 All arrays are list but all list are not arrays.\n"
   ]
  },
  {
   "cell_type": "code",
   "execution_count": 19,
   "metadata": {},
   "outputs": [
    {
     "name": "stdout",
     "output_type": "stream",
     "text": [
      "[25, 34, 55, 555, 5658, 45452, 784543]\n",
      "['hello', 'world', 'welocme', 'to', 'the', 'python', 'list']\n"
     ]
    }
   ],
   "source": [
    "mylist = [25,34,55,555,5658,45452,784543]\n",
    "mylist1 = [\"hello\",\"world\",\"welocme\",\"to\",\"the\",\"python\",\"list\"]\n",
    "print(mylist)\n",
    "print(mylist1)"
   ]
  },
  {
   "cell_type": "markdown",
   "metadata": {},
   "source": [
    "#Built in fucntions to add items"
   ]
  },
  {
   "cell_type": "code",
   "execution_count": 20,
   "metadata": {},
   "outputs": [
    {
     "name": "stdout",
     "output_type": "stream",
     "text": [
      "['hello', 1, 2, 3.14]\n",
      "['hello', 1, 2, 3.14, 5, 'world']\n"
     ]
    }
   ],
   "source": [
    "#mylist.append(item)  ->   add item in end of list\n",
    "mylist = ['hello',1,2,3.14]\n",
    "print(mylist)\n",
    "mylist.append(5)\n",
    "mylist.append('world')\n",
    "print(mylist)"
   ]
  },
  {
   "cell_type": "code",
   "execution_count": 22,
   "metadata": {},
   "outputs": [
    {
     "name": "stdout",
     "output_type": "stream",
     "text": [
      "['python', 'hello', 1, 2, 'bye', 3.14, 5, 'world']\n"
     ]
    }
   ],
   "source": [
    "#mylist.insert(index,item)  ->    \n",
    "l = [1,5,3,324,21,'hello','hi']\n",
    "mylist.insert(3,'bye')\n",
    "mylist.insert(0,'python')\n",
    "print(mylist)"
   ]
  },
  {
   "cell_type": "code",
   "execution_count": 23,
   "metadata": {},
   "outputs": [
    {
     "name": "stdout",
     "output_type": "stream",
     "text": [
      "[1, 5, 1, 'p', 'y', 't', 'h', 'o', 'n']\n"
     ]
    }
   ],
   "source": [
    "l = [1,5,1]\n",
    "l.extend('python')\n",
    "print(l)"
   ]
  },
  {
   "cell_type": "markdown",
   "metadata": {},
   "source": [
    "built in funtion to remove a item from list-----------------\n",
    "1.mylist.pop(index)------------------\n",
    "2.mylist.pop()   ->    removes last element-------------------\n",
    "3.mylist.remove   ->    removes first occurence of item"
   ]
  },
  {
   "cell_type": "markdown",
   "metadata": {},
   "source": [
    "other function of list ->>>>>>  sort , reverse , index , clear\n"
   ]
  },
  {
   "cell_type": "code",
   "execution_count": 29,
   "metadata": {},
   "outputs": [
    {
     "name": "stdout",
     "output_type": "stream",
     "text": [
      "[2, 12, 55, 265, 3232, 484545454154545455]\n",
      "[484545454154545455, 3232, 265, 55, 12, 2]\n",
      "[2, 12, 55, 265, 3232, 484545454154545455]\n"
     ]
    }
   ],
   "source": [
    "l = [55,265,12,2,3232,484545454154545455]\n",
    "l.sort()\n",
    "print(l)\n",
    "l.sort(reverse = True)\n",
    "print(l)\n",
    "l.reverse()\n",
    "print(l)"
   ]
  },
  {
   "cell_type": "markdown",
   "metadata": {},
   "source": [
    "# TUPLE"
   ]
  },
  {
   "cell_type": "markdown",
   "metadata": {},
   "source": [
    "Tuple is immutable data type."
   ]
  },
  {
   "cell_type": "markdown",
   "metadata": {},
   "source": [
    "# DICTIONARY"
   ]
  },
  {
   "cell_type": "code",
   "execution_count": 36,
   "metadata": {},
   "outputs": [
    {
     "name": "stdout",
     "output_type": "stream",
     "text": [
      "<class 'dict'>\n",
      "{'key': 'value', 'name': 'python', 'year': 1991}\n",
      "['__class__', '__contains__', '__delattr__', '__delitem__', '__dir__', '__doc__', '__eq__', '__format__', '__ge__', '__getattribute__', '__getitem__', '__gt__', '__hash__', '__init__', '__init_subclass__', '__iter__', '__le__', '__len__', '__lt__', '__ne__', '__new__', '__reduce__', '__reduce_ex__', '__repr__', '__setattr__', '__setitem__', '__sizeof__', '__str__', '__subclasshook__', 'clear', 'copy', 'fromkeys', 'get', 'items', 'keys', 'pop', 'popitem', 'setdefault', 'update', 'values']\n"
     ]
    }
   ],
   "source": [
    "mydict = {\n",
    "    'key':'value',\n",
    "    'name':'python',\n",
    "    'year':1991\n",
    "\n",
    "}\n",
    "print(type(mydict))\n",
    "print(mydict)\n",
    "print(dir(mydict))"
   ]
  },
  {
   "cell_type": "code",
   "execution_count": 40,
   "metadata": {},
   "outputs": [
    {
     "name": "stdout",
     "output_type": "stream",
     "text": [
      "['__class__', '__contains__', '__delattr__', '__delitem__', '__dir__', '__doc__', '__eq__', '__format__', '__ge__', '__getattribute__', '__getitem__', '__gt__', '__hash__', '__init__', '__init_subclass__', '__iter__', '__le__', '__len__', '__lt__', '__ne__', '__new__', '__reduce__', '__reduce_ex__', '__repr__', '__setattr__', '__setitem__', '__sizeof__', '__str__', '__subclasshook__', 'clear', 'copy', 'fromkeys', 'get', 'items', 'keys', 'pop', 'popitem', 'setdefault', 'update', 'values']\n",
      "name age language skills country\n"
     ]
    }
   ],
   "source": [
    "info = {\n",
    "    'name':'hari',\n",
    "    'age':21,\n",
    "    'language':'hindi',\n",
    "    'skills':['linux','python'],\n",
    "    'country':'india'\n",
    "}\n",
    "print(dir(info))\n",
    "print(*info)"
   ]
  },
  {
   "cell_type": "markdown",
   "metadata": {
    "collapsed": true
   },
   "source": [
    "# SETS"
   ]
  },
  {
   "cell_type": "code",
   "execution_count": 1,
   "metadata": {},
   "outputs": [
    {
     "name": "stdout",
     "output_type": "stream",
     "text": [
      "<class 'set'>\n",
      "<class 'set'>\n",
      "['__and__', '__class__', '__contains__', '__delattr__', '__dir__', '__doc__', '__eq__', '__format__', '__ge__', '__getattribute__', '__gt__', '__hash__', '__iand__', '__init__', '__init_subclass__', '__ior__', '__isub__', '__iter__', '__ixor__', '__le__', '__len__', '__lt__', '__ne__', '__new__', '__or__', '__rand__', '__reduce__', '__reduce_ex__', '__repr__', '__ror__', '__rsub__', '__rxor__', '__setattr__', '__sizeof__', '__str__', '__sub__', '__subclasshook__', '__xor__', 'add', 'clear', 'copy', 'difference', 'difference_update', 'discard', 'intersection', 'intersection_update', 'isdisjoint', 'issubset', 'issuperset', 'pop', 'remove', 'symmetric_difference', 'symmetric_difference_update', 'union', 'update']\n"
     ]
    }
   ],
   "source": [
    "A = { 'Hello',1,5,234,3.14,11,12,13,14}\n",
    "B = { 'Bye',2,22,24,11,12,13,14}\n",
    "print(type(A))\n",
    "print(type(B))\n",
    "print(dir(A))"
   ]
  },
  {
   "cell_type": "code",
   "execution_count": 2,
   "metadata": {},
   "outputs": [
    {
     "name": "stdout",
     "output_type": "stream",
     "text": [
      "A intersection B is   {11, 12, 13, 14}\n",
      "A union B is   {'Bye', 1, 2, 3.14, 'Hello', 5, 234, 11, 12, 13, 14, 22, 24}\n",
      "Difference of A wrt to B is   {1, 3.14, 'Hello', 5, 234}\n"
     ]
    }
   ],
   "source": [
    "A = { 'Hello',1,5,234,3.14,11,12,13,14}\n",
    "B = { 'Bye',2,22,24,11,12,13,14}\n",
    "print('A intersection B is  ',A.intersection(B))\n",
    "print('A union B is  ',A.union(B))\n",
    "print('Difference of A wrt to B is  ',A.difference(B))"
   ]
  },
  {
   "cell_type": "code",
   "execution_count": 5,
   "metadata": {},
   "outputs": [
    {
     "name": "stdout",
     "output_type": "stream",
     "text": [
      "Olny hindi news reader are  PO SH PA\n",
      "Only english news reader are  AS AP KR\n"
     ]
    }
   ],
   "source": [
    "H = { 'K','PA','PO','SH'}\n",
    "E = { 'AP','J','KR','AS'}\n",
    "C = { 'D','V','K','J'}\n",
    "print('Olny hindi news reader are ',*H.difference(C))\n",
    "print('Only english news reader are ',*E.difference(C))\n"
   ]
  },
  {
   "cell_type": "markdown",
   "metadata": {},
   "source": [
    "# TYPE CONVERSION"
   ]
  },
  {
   "cell_type": "code",
   "execution_count": 6,
   "metadata": {},
   "outputs": [
    {
     "name": "stdout",
     "output_type": "stream",
     "text": [
      "1234\n"
     ]
    }
   ],
   "source": [
    "#integer fucntion\n",
    "k = ('     1234   ')\n",
    "x = int(k)\n",
    "print(x)"
   ]
  },
  {
   "cell_type": "code",
   "execution_count": null,
   "metadata": {
    "collapsed": true
   },
   "outputs": [],
   "source": []
  }
 ],
 "metadata": {
  "kernelspec": {
   "display_name": "Python 3",
   "language": "python",
   "name": "python3"
  },
  "language_info": {
   "codemirror_mode": {
    "name": "ipython",
    "version": 3
   },
   "file_extension": ".py",
   "mimetype": "text/x-python",
   "name": "python",
   "nbconvert_exporter": "python",
   "pygments_lexer": "ipython3",
   "version": "3.6.3"
  }
 },
 "nbformat": 4,
 "nbformat_minor": 2
}
